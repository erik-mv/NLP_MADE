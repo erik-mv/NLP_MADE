{
 "cells": [
  {
   "cell_type": "markdown",
   "metadata": {
    "id": "2nZiyHkuT5zR"
   },
   "source": [
    "### Lab 2: Neural Machine Translation in the wild\n",
    "In the third homework you are supposed to get the best translation you can for the EN-RU translation task.\n",
    "\n",
    "Basic approach using RNNs as encoder and decoder is implemented for you. \n",
    "\n",
    "Your ultimate task is to use the techniques we've covered, e.g.\n",
    "\n",
    "* Optimization enhancements (e.g. learning rate decay)\n",
    "\n",
    "* CNN encoder (with or without positional encoding)\n",
    "\n",
    "* attention/self-attention mechanism\n",
    "\n",
    "* pretraining the language model\n",
    "\n",
    "* [Byte Pair Encoding](https://github.com/rsennrich/subword-nmt)\n",
    "\n",
    "* or just fine-tunning BERT ;)\n",
    "\n",
    "to improve the translation quality. \n",
    "\n",
    "__Please use at least three different approaches/models and compare them (translation quality/complexity/training and evaluation time).__\n",
    "\n",
    "Write down some summary on your experiments and illustrate it with convergence plots/metrics and your thoughts. Just like you would approach a real problem."
   ]
  },
  {
   "cell_type": "code",
   "execution_count": 1,
   "metadata": {
    "colab": {
     "base_uri": "https://localhost:8080/"
    },
    "executionInfo": {
     "elapsed": 2301,
     "status": "ok",
     "timestamp": 1621837164039,
     "user": {
      "displayName": "Эрик Муллагалиев",
      "photoUrl": "",
      "userId": "09073712434566956400"
     },
     "user_tz": -180
    },
    "id": "pvVZm5yVUEM1",
    "outputId": "9d4c8c9a-0128-43a6-a4da-eedf9c2ab4f6"
   },
   "outputs": [
    {
     "name": "stdout",
     "output_type": "stream",
     "text": [
      "Requirement already satisfied: subword-nmt in /usr/local/lib/python3.7/dist-packages (0.3.7)\n"
     ]
    }
   ],
   "source": [
    "! pip  install subword-nmt"
   ]
  },
  {
   "cell_type": "code",
   "execution_count": 2,
   "metadata": {
    "colab": {
     "base_uri": "https://localhost:8080/"
    },
    "executionInfo": {
     "elapsed": 3054,
     "status": "ok",
     "timestamp": 1621837167086,
     "user": {
      "displayName": "Эрик Муллагалиев",
      "photoUrl": "",
      "userId": "09073712434566956400"
     },
     "user_tz": -180
    },
    "id": "LVWyEGWBUVef",
    "outputId": "5473c682-6f25-4aaa-9305-f221ab15f9f9"
   },
   "outputs": [
    {
     "name": "stdout",
     "output_type": "stream",
     "text": [
      "Requirement already satisfied: nltk in /usr/local/lib/python3.7/dist-packages (3.2.5)\n",
      "Requirement already satisfied: six in /usr/local/lib/python3.7/dist-packages (from nltk) (1.15.0)\n"
     ]
    }
   ],
   "source": [
    "! pip install nltk"
   ]
  },
  {
   "cell_type": "code",
   "execution_count": 3,
   "metadata": {
    "colab": {
     "base_uri": "https://localhost:8080/"
    },
    "executionInfo": {
     "elapsed": 2172,
     "status": "ok",
     "timestamp": 1621837169248,
     "user": {
      "displayName": "Эрик Муллагалиев",
      "photoUrl": "",
      "userId": "09073712434566956400"
     },
     "user_tz": -180
    },
    "id": "-qS6YYq4UXDP",
    "outputId": "29a00703-1f0b-442c-85d8-490a3ab65785"
   },
   "outputs": [
    {
     "name": "stdout",
     "output_type": "stream",
     "text": [
      "Requirement already satisfied: torchtext in /usr/local/lib/python3.7/dist-packages (0.9.1)\n",
      "Requirement already satisfied: torch==1.8.1 in /usr/local/lib/python3.7/dist-packages (from torchtext) (1.8.1+cu101)\n",
      "Requirement already satisfied: requests in /usr/local/lib/python3.7/dist-packages (from torchtext) (2.23.0)\n",
      "Requirement already satisfied: tqdm in /usr/local/lib/python3.7/dist-packages (from torchtext) (4.41.1)\n",
      "Requirement already satisfied: numpy in /usr/local/lib/python3.7/dist-packages (from torchtext) (1.19.5)\n",
      "Requirement already satisfied: typing-extensions in /usr/local/lib/python3.7/dist-packages (from torch==1.8.1->torchtext) (3.7.4.3)\n",
      "Requirement already satisfied: chardet<4,>=3.0.2 in /usr/local/lib/python3.7/dist-packages (from requests->torchtext) (3.0.4)\n",
      "Requirement already satisfied: certifi>=2017.4.17 in /usr/local/lib/python3.7/dist-packages (from requests->torchtext) (2020.12.5)\n",
      "Requirement already satisfied: urllib3!=1.25.0,!=1.25.1,<1.26,>=1.21.1 in /usr/local/lib/python3.7/dist-packages (from requests->torchtext) (1.24.3)\n",
      "Requirement already satisfied: idna<3,>=2.5 in /usr/local/lib/python3.7/dist-packages (from requests->torchtext) (2.10)\n"
     ]
    }
   ],
   "source": [
    "! pip install torchtext"
   ]
  },
  {
   "cell_type": "code",
   "execution_count": 4,
   "metadata": {
    "executionInfo": {
     "elapsed": 24,
     "status": "ok",
     "timestamp": 1621837169249,
     "user": {
      "displayName": "Эрик Муллагалиев",
      "photoUrl": "",
      "userId": "09073712434566956400"
     },
     "user_tz": -180
    },
    "id": "CDOY23p8T5zW"
   },
   "outputs": [],
   "source": [
    "# You might need to install the libraries below. Do it in the desired environment\n",
    "# if you are working locally.\n",
    "\n",
    "# ! pip  install subword-nmt\n",
    "# ! pip install nltk\n",
    "# ! pip install torchtext"
   ]
  },
  {
   "cell_type": "code",
   "execution_count": 5,
   "metadata": {
    "colab": {
     "base_uri": "https://localhost:8080/"
    },
    "executionInfo": {
     "elapsed": 24,
     "status": "ok",
     "timestamp": 1621837169251,
     "user": {
      "displayName": "Эрик Муллагалиев",
      "photoUrl": "",
      "userId": "09073712434566956400"
     },
     "user_tz": -180
    },
    "id": "GGKp5dqJT5zY",
    "outputId": "1fcb0087-659d-4c62-b68f-21eb1e62650c"
   },
   "outputs": [
    {
     "name": "stdout",
     "output_type": "stream",
     "text": [
      "Dataset not found locally. Downloading from github. Loading special files as well\n",
      "File ‘data.txt’ already there; not retrieving.\n",
      "\n"
     ]
    }
   ],
   "source": [
    "# Thanks to YSDA NLP course team for the data\n",
    "# (who thanks tilda and deephack teams for the data in their turn)\n",
    "\n",
    "import os\n",
    "path_do_data = '../../datasets/Machine_translation_EN_RU/data.txt'\n",
    "if not os.path.exists(path_do_data):\n",
    "    print(\"Dataset not found locally. Downloading from github. Loading special files as well\")\n",
    "    !wget https://raw.githubusercontent.com/neychev/made_nlp_course/spring2021/datasets/Machine_translation_EN_RU/data.txt -nc\n",
    "    path_do_data = './data.txt'"
   ]
  },
  {
   "cell_type": "code",
   "execution_count": 6,
   "metadata": {
    "executionInfo": {
     "elapsed": 12,
     "status": "ok",
     "timestamp": 1621837169252,
     "user": {
      "displayName": "Эрик Муллагалиев",
      "photoUrl": "",
      "userId": "09073712434566956400"
     },
     "user_tz": -180
    },
    "id": "70UXHDdrT5zZ"
   },
   "outputs": [],
   "source": [
    "if not os.path.exists('./utils.py'):\n",
    "    print(\"utils file not found locally. Downloading from github.\")\n",
    "    !wget https://raw.githubusercontent.com/neychev/made_nlp_course/spring2021/homeworks/Lab02_NMT/utils.py -nc\n",
    "\n",
    "# if not os.path.exists('./my_network.py'):\n",
    "#     print(\"network file not found locally. Downloading from github.\")\n",
    "#     !wget https://raw.githubusercontent.com/neychev/made_nlp_course/spring2021/homeworks/Lab02_NMT/my_network.py -nc"
   ]
  },
  {
   "cell_type": "code",
   "execution_count": 36,
   "metadata": {
    "executionInfo": {
     "elapsed": 282,
     "status": "ok",
     "timestamp": 1621840029156,
     "user": {
      "displayName": "Эрик Муллагалиев",
      "photoUrl": "",
      "userId": "09073712434566956400"
     },
     "user_tz": -180
    },
    "id": "wMa1uLnsT5za"
   },
   "outputs": [],
   "source": [
    "import torch\n",
    "import torch.nn as nn\n",
    "import torch.optim as optim\n",
    "\n",
    "import torchtext\n",
    "from torchtext.legacy.datasets import TranslationDataset, Multi30k\n",
    "from torchtext.legacy.data import Field, BucketIterator, TabularDataset\n",
    "\n",
    "import spacy\n",
    "\n",
    "import random\n",
    "import math\n",
    "import time\n",
    "\n",
    "import matplotlib\n",
    "matplotlib.rcParams.update({'figure.figsize': (16, 12), 'font.size': 14})\n",
    "import matplotlib.pyplot as plt\n",
    "%matplotlib inline\n",
    "from IPython.display import clear_output\n",
    "\n",
    "from nltk.tokenize import WordPunctTokenizer\n",
    "from subword_nmt.learn_bpe import learn_bpe\n",
    "from subword_nmt.apply_bpe import BPE\n",
    "\n",
    "import utils\n",
    "import imp\n",
    "from nltk.translate.bleu_score import corpus_bleu\n",
    "import tqdm"
   ]
  },
  {
   "cell_type": "markdown",
   "metadata": {
    "id": "U3Lnd__6T5zb"
   },
   "source": [
    "### Main part\n",
    "__Here comes the preprocessing. Do not hesitate to use BPE or more complex preprocessing ;)__"
   ]
  },
  {
   "cell_type": "code",
   "execution_count": 37,
   "metadata": {
    "executionInfo": {
     "elapsed": 7,
     "status": "ok",
     "timestamp": 1621837170820,
     "user": {
      "displayName": "Эрик Муллагалиев",
      "photoUrl": "",
      "userId": "09073712434566956400"
     },
     "user_tz": -180
    },
    "id": "HfqbSAsNT5zb"
   },
   "outputs": [],
   "source": [
    "tokenizer_W = WordPunctTokenizer()\n",
    "def tokenize(x, tokenizer=tokenizer_W):\n",
    "    return tokenizer.tokenize(x.lower())"
   ]
  },
  {
   "cell_type": "code",
   "execution_count": 38,
   "metadata": {
    "executionInfo": {
     "elapsed": 2341,
     "status": "ok",
     "timestamp": 1621837173155,
     "user": {
      "displayName": "Эрик Муллагалиев",
      "photoUrl": "",
      "userId": "09073712434566956400"
     },
     "user_tz": -180
    },
    "id": "qe3em7dIT5zc"
   },
   "outputs": [],
   "source": [
    "SRC = Field(tokenize=tokenize,\n",
    "            init_token = '<sos>', \n",
    "            eos_token = '<eos>', \n",
    "            lower = True)\n",
    "\n",
    "TRG = Field(tokenize=tokenize,\n",
    "            init_token = '<sos>', \n",
    "            eos_token = '<eos>', \n",
    "            lower = True)\n",
    "\n",
    "dataset = TabularDataset(\n",
    "    path=path_do_data,\n",
    "    format='tsv',\n",
    "    fields=[('trg', TRG), ('src', SRC)]\n",
    ")"
   ]
  },
  {
   "cell_type": "code",
   "execution_count": 39,
   "metadata": {
    "executionInfo": {
     "elapsed": 29,
     "status": "ok",
     "timestamp": 1621837173161,
     "user": {
      "displayName": "Эрик Муллагалиев",
      "photoUrl": "",
      "userId": "09073712434566956400"
     },
     "user_tz": -180
    },
    "id": "mFGzD-WET5zd"
   },
   "outputs": [],
   "source": [
    "train_data, valid_data, test_data = dataset.split(split_ratio=[0.8, 0.15, 0.05])"
   ]
  },
  {
   "cell_type": "code",
   "execution_count": 40,
   "metadata": {
    "colab": {
     "base_uri": "https://localhost:8080/"
    },
    "executionInfo": {
     "elapsed": 28,
     "status": "ok",
     "timestamp": 1621837173162,
     "user": {
      "displayName": "Эрик Муллагалиев",
      "photoUrl": "",
      "userId": "09073712434566956400"
     },
     "user_tz": -180
    },
    "id": "qtEJy0OpT5zd",
    "outputId": "d12c2180-64f3-40e7-9d47-4a717922995c"
   },
   "outputs": [
    {
     "name": "stdout",
     "output_type": "stream",
     "text": [
      "Number of training examples: 40000\n",
      "Number of validation examples: 2500\n",
      "Number of testing examples: 7500\n"
     ]
    }
   ],
   "source": [
    "print(f\"Number of training examples: {len(train_data.examples)}\")\n",
    "print(f\"Number of validation examples: {len(valid_data.examples)}\")\n",
    "print(f\"Number of testing examples: {len(test_data.examples)}\")"
   ]
  },
  {
   "cell_type": "code",
   "execution_count": 41,
   "metadata": {
    "executionInfo": {
     "elapsed": 531,
     "status": "ok",
     "timestamp": 1621837173669,
     "user": {
      "displayName": "Эрик Муллагалиев",
      "photoUrl": "",
      "userId": "09073712434566956400"
     },
     "user_tz": -180
    },
    "id": "fwj9GyW4T5zg"
   },
   "outputs": [],
   "source": [
    "SRC.build_vocab(train_data, min_freq = 3)\n",
    "TRG.build_vocab(train_data, min_freq = 3)"
   ]
  },
  {
   "cell_type": "code",
   "execution_count": 42,
   "metadata": {
    "colab": {
     "base_uri": "https://localhost:8080/"
    },
    "executionInfo": {
     "elapsed": 25,
     "status": "ok",
     "timestamp": 1621837173670,
     "user": {
      "displayName": "Эрик Муллагалиев",
      "photoUrl": "",
      "userId": "09073712434566956400"
     },
     "user_tz": -180
    },
    "id": "k366i79DT5zg",
    "outputId": "9c056672-b2f9-40f6-e246-a908fff185d1"
   },
   "outputs": [
    {
     "name": "stdout",
     "output_type": "stream",
     "text": [
      "Unique tokens in source (ru) vocabulary: 9206\n",
      "Unique tokens in target (en) vocabulary: 6687\n"
     ]
    }
   ],
   "source": [
    "print(f\"Unique tokens in source (ru) vocabulary: {len(SRC.vocab)}\")\n",
    "print(f\"Unique tokens in target (en) vocabulary: {len(TRG.vocab)}\")"
   ]
  },
  {
   "cell_type": "markdown",
   "metadata": {
    "id": "uetR58A6T5zh"
   },
   "source": [
    "Here are tokens from original (RU) corpus:"
   ]
  },
  {
   "cell_type": "code",
   "execution_count": 43,
   "metadata": {
    "colab": {
     "base_uri": "https://localhost:8080/"
    },
    "executionInfo": {
     "elapsed": 23,
     "status": "ok",
     "timestamp": 1621837173671,
     "user": {
      "displayName": "Эрик Муллагалиев",
      "photoUrl": "",
      "userId": "09073712434566956400"
     },
     "user_tz": -180
    },
    "id": "Yn2D8dJJT5zh",
    "outputId": "afe65a80-5637-454f-bf80-81705008779c"
   },
   "outputs": [
    {
     "data": {
      "text/plain": [
       "['<unk>',\n",
       " 'спален',\n",
       " 'снаряжение',\n",
       " 'кондиционеры',\n",
       " 'dolce',\n",
       " 'эр',\n",
       " 'original',\n",
       " 'ужины',\n",
       " 'дровяным',\n",
       " 'укомплектованных']"
      ]
     },
     "execution_count": 43,
     "metadata": {},
     "output_type": "execute_result"
    }
   ],
   "source": [
    "SRC.vocab.itos[::1000]"
   ]
  },
  {
   "cell_type": "markdown",
   "metadata": {
    "id": "WpGqNrcUT5zi"
   },
   "source": [
    "And from target (EN) corpus:"
   ]
  },
  {
   "cell_type": "code",
   "execution_count": 44,
   "metadata": {
    "colab": {
     "base_uri": "https://localhost:8080/"
    },
    "executionInfo": {
     "elapsed": 19,
     "status": "ok",
     "timestamp": 1621837173672,
     "user": {
      "displayName": "Эрик Муллагалиев",
      "photoUrl": "",
      "userId": "09073712434566956400"
     },
     "user_tz": -180
    },
    "id": "Y7rNEJCgT5zj",
    "outputId": "4f47bd65-1cc9-4b44-d6c7-fb127fece097"
   },
   "outputs": [
    {
     "data": {
      "text/plain": [
       "['<unk>', 'pub', 'exercise', 'dachstein', 'mulino', 'skegness', 'marino']"
      ]
     },
     "execution_count": 44,
     "metadata": {},
     "output_type": "execute_result"
    }
   ],
   "source": [
    "TRG.vocab.itos[::1000]"
   ]
  },
  {
   "cell_type": "markdown",
   "metadata": {
    "id": "sp_AQzihT5zk"
   },
   "source": [
    "And here is example from train dataset:"
   ]
  },
  {
   "cell_type": "code",
   "execution_count": 45,
   "metadata": {
    "colab": {
     "base_uri": "https://localhost:8080/"
    },
    "executionInfo": {
     "elapsed": 14,
     "status": "ok",
     "timestamp": 1621837173673,
     "user": {
      "displayName": "Эрик Муллагалиев",
      "photoUrl": "",
      "userId": "09073712434566956400"
     },
     "user_tz": -180
    },
    "id": "OUu0DhbtT5zl",
    "outputId": "9314ca28-0513-406a-e0fd-dde788e56248"
   },
   "outputs": [
    {
     "name": "stdout",
     "output_type": "stream",
     "text": [
      "{'trg': ['overlooking', 'scenic', 'mount', 'merapi', 'and', 'sianok', 'canyon', ',', 'parai', 'mountain', 'resort', '-', 'bukittinggi', 'offers', 'budget', 'accommodation', 'with', 'free', 'wi', '-', 'fi', '.'], 'src': ['отель', 'parai', 'mountain', 'resort', '-', 'bukittinggi', 'предлагает', 'для', 'размещения', 'бюджетные', 'номера', 'с', 'бесплатным', 'wifi', 'и', 'живописным', 'видом', 'на', 'гору', 'мерапи', 'и', 'каньон', 'сианок', '.']}\n"
     ]
    }
   ],
   "source": [
    "print(vars(train_data.examples[9]))"
   ]
  },
  {
   "cell_type": "markdown",
   "metadata": {
    "id": "jNMu-1EMT5zl"
   },
   "source": [
    "Let's check the length distributions:"
   ]
  },
  {
   "cell_type": "code",
   "execution_count": 46,
   "metadata": {
    "colab": {
     "base_uri": "https://localhost:8080/",
     "height": 299
    },
    "executionInfo": {
     "elapsed": 443,
     "status": "ok",
     "timestamp": 1621837174107,
     "user": {
      "displayName": "Эрик Муллагалиев",
      "photoUrl": "",
      "userId": "09073712434566956400"
     },
     "user_tz": -180
    },
    "id": "txC8dKUWT5zm",
    "outputId": "b307f867-fea0-4fff-a8d3-83c3cd9a2483"
   },
   "outputs": [
    {
     "name": "stdout",
     "output_type": "stream",
     "text": [
      "Length distribution in Train data\n"
     ]
    },
    {
     "data": {
      "image/png": "[encoded data removed]",
      "text/plain": [
       "<Figure size 576x288 with 2 Axes>"
      ]
     },
     "metadata": {
      "needs_background": "light"
     },
     "output_type": "display_data"
    }
   ],
   "source": [
    "src_length = map(len, [vars(x)['src'] for x in train_data.examples])\n",
    "trg_length = map(len, [vars(x)['trg'] for x in train_data.examples])\n",
    "\n",
    "print('Length distribution in Train data')\n",
    "plt.figure(figsize=[8, 4])\n",
    "plt.subplot(1, 2, 1)\n",
    "plt.title(\"source length\")\n",
    "plt.hist(list(src_length), bins=20);\n",
    "\n",
    "plt.subplot(1, 2, 2)\n",
    "plt.title(\"translation length\")\n",
    "plt.hist(list(trg_length), bins=20);"
   ]
  },
  {
   "cell_type": "code",
   "execution_count": 47,
   "metadata": {
    "colab": {
     "base_uri": "https://localhost:8080/",
     "height": 299
    },
    "executionInfo": {
     "elapsed": 416,
     "status": "ok",
     "timestamp": 1621837174512,
     "user": {
      "displayName": "Эрик Муллагалиев",
      "photoUrl": "",
      "userId": "09073712434566956400"
     },
     "user_tz": -180
    },
    "id": "goOstaInT5zn",
    "outputId": "ac0001cd-a156-42fb-82ef-5c5d2899cf9c"
   },
   "outputs": [
    {
     "name": "stdout",
     "output_type": "stream",
     "text": [
      "Length distribution in Test data\n"
     ]
    },
    {
     "data": {
      "image/png": "[encoded data removed]",
      "text/plain": [
       "<Figure size 576x288 with 2 Axes>"
      ]
     },
     "metadata": {
      "needs_background": "light"
     },
     "output_type": "display_data"
    }
   ],
   "source": [
    "src_length = map(len, [vars(x)['src'] for x in test_data.examples])\n",
    "trg_length = map(len, [vars(x)['trg'] for x in test_data.examples])\n",
    "\n",
    "print('Length distribution in Test data')\n",
    "plt.figure(figsize=[8, 4])\n",
    "plt.subplot(1, 2, 1)\n",
    "plt.title(\"source length\")\n",
    "plt.hist(list(src_length), bins=20);\n",
    "\n",
    "plt.subplot(1, 2, 2)\n",
    "plt.title(\"translation length\")\n",
    "plt.hist(list(trg_length), bins=20);"
   ]
  },
  {
   "cell_type": "markdown",
   "metadata": {
    "id": "a92aQvFBT5zo"
   },
   "source": [
    "### Model side\n",
    "__Here comes simple pipeline of NMT model learning. It almost copies the week03 practice__"
   ]
  },
  {
   "cell_type": "code",
   "execution_count": 48,
   "metadata": {
    "executionInfo": {
     "elapsed": 19,
     "status": "ok",
     "timestamp": 1621837174516,
     "user": {
      "displayName": "Эрик Муллагалиев",
      "photoUrl": "",
      "userId": "09073712434566956400"
     },
     "user_tz": -180
    },
    "id": "EPekO6GIT5zp"
   },
   "outputs": [],
   "source": [
    "device = torch.device('cuda' if torch.cuda.is_available() else 'cpu')"
   ]
  },
  {
   "cell_type": "code",
   "execution_count": 49,
   "metadata": {
    "colab": {
     "base_uri": "https://localhost:8080/"
    },
    "executionInfo": {
     "elapsed": 21,
     "status": "ok",
     "timestamp": 1621837174519,
     "user": {
      "displayName": "Эрик Муллагалиев",
      "photoUrl": "",
      "userId": "09073712434566956400"
     },
     "user_tz": -180
    },
    "id": "gWe-V5hBT5zp",
    "outputId": "9d5f9f9a-ac74-4af6-a652-2cc676c642b1"
   },
   "outputs": [
    {
     "data": {
      "text/plain": [
       "device(type='cuda')"
      ]
     },
     "execution_count": 49,
     "metadata": {},
     "output_type": "execute_result"
    }
   ],
   "source": [
    "device"
   ]
  },
  {
   "cell_type": "code",
   "execution_count": 50,
   "metadata": {
    "executionInfo": {
     "elapsed": 17,
     "status": "ok",
     "timestamp": 1621837174521,
     "user": {
      "displayName": "Эрик Муллагалиев",
      "photoUrl": "",
      "userId": "09073712434566956400"
     },
     "user_tz": -180
    },
    "id": "wiN9C43ST5zq"
   },
   "outputs": [],
   "source": [
    "def _len_sort_key(x):\n",
    "    return len(x.src)\n",
    "\n",
    "BATCH_SIZE = 128\n",
    "\n",
    "train_iterator, valid_iterator, test_iterator = BucketIterator.splits(\n",
    "    (train_data, valid_data, test_data), \n",
    "    batch_size = BATCH_SIZE, \n",
    "    device = device,\n",
    "    sort_key=_len_sort_key\n",
    ")"
   ]
  },
  {
   "cell_type": "code",
   "execution_count": 51,
   "metadata": {
    "colab": {
     "base_uri": "https://localhost:8080/"
    },
    "executionInfo": {
     "elapsed": 4016,
     "status": "ok",
     "timestamp": 1621837178521,
     "user": {
      "displayName": "Эрик Муллагалиев",
      "photoUrl": "",
      "userId": "09073712434566956400"
     },
     "user_tz": -180
    },
    "id": "xU5ypEIBT5zr",
    "outputId": "819027e9-d8cf-415b-f4ba-63261f9e33b7"
   },
   "outputs": [
    {
     "name": "stdout",
     "output_type": "stream",
     "text": [
      "\n",
      "[torchtext.legacy.data.batch.Batch of size 128]\n",
      "\t[.trg]:[torch.cuda.LongTensor of size 75x128 (GPU 0)]\n",
      "\t[.src]:[torch.cuda.LongTensor of size 68x128 (GPU 0)]\n",
      "torch.Size([68, 128]) torch.Size([75, 128])\n"
     ]
    }
   ],
   "source": [
    "for x in train_iterator:\n",
    "    break\n",
    "print(x)\n",
    "print(x.src.shape, x.trg.shape)"
   ]
  },
  {
   "cell_type": "code",
   "execution_count": 52,
   "metadata": {
    "executionInfo": {
     "elapsed": 41,
     "status": "ok",
     "timestamp": 1621837178522,
     "user": {
      "displayName": "Эрик Муллагалиев",
      "photoUrl": "",
      "userId": "09073712434566956400"
     },
     "user_tz": -180
    },
    "id": "NmH_3dy0-Q3C"
   },
   "outputs": [],
   "source": [
    "def init_weights(m):\n",
    "    # <YOUR CODE HERE>\n",
    "    for name, param in m.named_parameters():\n",
    "        nn.init.uniform_(param, -0.08, 0.08)\n",
    "\n",
    "def count_parameters(model):\n",
    "    return sum(p.numel() for p in model.parameters() if p.requires_grad)\n",
    "  \n",
    "def train(model, iterator, optimizer, criterion, clip, train_history=None, valid_history=None):\n",
    "    model.train()\n",
    "    \n",
    "    epoch_loss = 0\n",
    "    history = []\n",
    "    for i, batch in enumerate(iterator):\n",
    "        \n",
    "        src = batch.src\n",
    "        trg = batch.trg\n",
    "        \n",
    "        optimizer.zero_grad()\n",
    "        \n",
    "        output = model(src, trg)\n",
    "        \n",
    "        #trg = [trg sent len, batch size]\n",
    "        #output = [trg sent len, batch size, output dim]\n",
    "        \n",
    "        output = output[1:].view(-1, output.shape[-1])\n",
    "        trg = trg[1:].view(-1)\n",
    "        \n",
    "        #trg = [(trg sent len - 1) * batch size]\n",
    "        #output = [(trg sent len - 1) * batch size, output dim]\n",
    "        \n",
    "        loss = criterion(output, trg)\n",
    "        \n",
    "        loss.backward()\n",
    "        \n",
    "        # Let's clip the gradient\n",
    "        torch.nn.utils.clip_grad_norm_(model.parameters(), clip)\n",
    "        \n",
    "        optimizer.step()\n",
    "        \n",
    "        epoch_loss += loss.item()\n",
    "        \n",
    "        history.append(loss.cpu().data.numpy())\n",
    "        if (i+1)%10==0:\n",
    "            fig, ax = plt.subplots(nrows=1, ncols=2, figsize=(12, 8))\n",
    "\n",
    "            clear_output(True)\n",
    "            ax[0].plot(history, label='train loss')\n",
    "            ax[0].set_xlabel('Batch')\n",
    "            ax[0].set_title('Train loss')\n",
    "            if train_history is not None:\n",
    "                ax[1].plot(train_history, label='general train history')\n",
    "                ax[1].set_xlabel('Epoch')\n",
    "            if valid_history is not None:\n",
    "                ax[1].plot(valid_history, label='general valid history')\n",
    "            plt.legend()\n",
    "            \n",
    "            plt.show()\n",
    "\n",
    "        \n",
    "    return epoch_loss / len(iterator)\n",
    "  \n",
    "def evaluate(model, iterator, criterion):\n",
    "    \n",
    "    model.eval()\n",
    "    \n",
    "    epoch_loss = 0\n",
    "    \n",
    "    history = []\n",
    "    \n",
    "    with torch.no_grad():\n",
    "    \n",
    "        for i, batch in enumerate(iterator):\n",
    "\n",
    "            src = batch.src\n",
    "            trg = batch.trg\n",
    "\n",
    "            output = model(src, trg, 0) #turn off teacher forcing\n",
    "\n",
    "            #trg = [trg sent len, batch size]\n",
    "            #output = [trg sent len, batch size, output dim]\n",
    "\n",
    "            output = output[1:].view(-1, output.shape[-1])\n",
    "            trg = trg[1:].view(-1)\n",
    "\n",
    "            #trg = [(trg sent len - 1) * batch size]\n",
    "            #output = [(trg sent len - 1) * batch size, output dim]\n",
    "\n",
    "            loss = criterion(output, trg)\n",
    "            \n",
    "            epoch_loss += loss.item()\n",
    "        \n",
    "    return epoch_loss / len(iterator)\n",
    "  \n",
    "def epoch_time(start_time, end_time):\n",
    "    elapsed_time = end_time - start_time\n",
    "    elapsed_mins = int(elapsed_time / 60)\n",
    "    elapsed_secs = int(elapsed_time - (elapsed_mins * 60))\n",
    "    return elapsed_mins, elapsed_secs"
   ]
  },
  {
   "cell_type": "markdown",
   "metadata": {
    "id": "MNO3AmHeEAnZ"
   },
   "source": [
    "### Попробуем базовую модель"
   ]
  },
  {
   "cell_type": "code",
   "execution_count": 24,
   "metadata": {
    "executionInfo": {
     "elapsed": 39,
     "status": "ok",
     "timestamp": 1621837178524,
     "user": {
      "displayName": "Эрик Муллагалиев",
      "photoUrl": "",
      "userId": "09073712434566956400"
     },
     "user_tz": -180
    },
    "id": "XWsmzxoPT5zt"
   },
   "outputs": [],
   "source": [
    "import baseline\n",
    "Encoder = baseline.Encoder\n",
    "Decoder = baseline.Decoder\n",
    "Seq2Seq = baseline.Seq2Seq"
   ]
  },
  {
   "cell_type": "code",
   "execution_count": 25,
   "metadata": {
    "executionInfo": {
     "elapsed": 39,
     "status": "ok",
     "timestamp": 1621837178525,
     "user": {
      "displayName": "Эрик Муллагалиев",
      "photoUrl": "",
      "userId": "09073712434566956400"
     },
     "user_tz": -180
    },
    "id": "NbgXvagbT5zu"
   },
   "outputs": [],
   "source": [
    "INPUT_DIM = len(SRC.vocab)\n",
    "OUTPUT_DIM = len(TRG.vocab)\n",
    "ENC_EMB_DIM = 256\n",
    "DEC_EMB_DIM = 256\n",
    "HID_DIM = 512\n",
    "N_LAYERS = 2\n",
    "ENC_DROPOUT = 0.5\n",
    "DEC_DROPOUT = 0.5\n",
    "\n",
    "enc = Encoder(INPUT_DIM, ENC_EMB_DIM, HID_DIM, N_LAYERS, ENC_DROPOUT)\n",
    "dec = Decoder(OUTPUT_DIM, DEC_EMB_DIM, HID_DIM, N_LAYERS, DEC_DROPOUT)\n",
    "\n",
    "# dont forget to put the model to the right device\n",
    "model = Seq2Seq(enc, dec, device).to(device)"
   ]
  },
  {
   "cell_type": "code",
   "execution_count": 26,
   "metadata": {
    "colab": {
     "base_uri": "https://localhost:8080/"
    },
    "executionInfo": {
     "elapsed": 38,
     "status": "ok",
     "timestamp": 1621837178526,
     "user": {
      "displayName": "Эрик Муллагалиев",
      "photoUrl": "",
      "userId": "09073712434566956400"
     },
     "user_tz": -180
    },
    "id": "WHFnX-4F4xt7",
    "outputId": "1651c72c-8bb9-476e-a36c-3c2638013cee"
   },
   "outputs": [
    {
     "name": "stdout",
     "output_type": "stream",
     "text": [
      "Seq2Seq(\n",
      "  (encoder): Encoder(\n",
      "    (embedding): Embedding(9240, 256)\n",
      "    (rnn): LSTM(256, 512, num_layers=2, dropout=0.5)\n",
      "    (dropout): Dropout(p=0.5, inplace=False)\n",
      "  )\n",
      "  (decoder): Decoder(\n",
      "    (embedding): Embedding(6743, 256)\n",
      "    (rnn): LSTM(256, 512, num_layers=2, dropout=0.5)\n",
      "    (out): Linear(in_features=512, out_features=6743, bias=True)\n",
      "    (dropout): Dropout(p=0.5, inplace=False)\n",
      "  )\n",
      ")\n",
      "The model has 14,907,223 trainable parameters\n"
     ]
    }
   ],
   "source": [
    "model.apply(init_weights)\n",
    "print(model)\n",
    "\n",
    "print(f'The model has {count_parameters(model):,} trainable parameters')"
   ]
  },
  {
   "cell_type": "code",
   "execution_count": 27,
   "metadata": {
    "executionInfo": {
     "elapsed": 36,
     "status": "ok",
     "timestamp": 1621837178527,
     "user": {
      "displayName": "Эрик Муллагалиев",
      "photoUrl": "",
      "userId": "09073712434566956400"
     },
     "user_tz": -180
    },
    "id": "Jw53gwL5-K9T"
   },
   "outputs": [],
   "source": [
    "PAD_IDX = TRG.vocab.stoi['<pad>']\n",
    "optimizer = optim.Adam(model.parameters())\n",
    "criterion = nn.CrossEntropyLoss(ignore_index = PAD_IDX)"
   ]
  },
  {
   "cell_type": "code",
   "execution_count": 28,
   "metadata": {
    "executionInfo": {
     "elapsed": 35,
     "status": "ok",
     "timestamp": 1621837178527,
     "user": {
      "displayName": "Эрик Муллагалиев",
      "photoUrl": "",
      "userId": "09073712434566956400"
     },
     "user_tz": -180
    },
    "id": "XWxKuNOT-LBO"
   },
   "outputs": [],
   "source": [
    "train_history = []\n",
    "valid_history = []\n",
    "\n",
    "N_EPOCHS = 25\n",
    "CLIP = 10\n",
    "\n",
    "best_valid_loss = float('inf')"
   ]
  },
  {
   "cell_type": "code",
   "execution_count": 29,
   "metadata": {
    "colab": {
     "base_uri": "https://localhost:8080/",
     "height": 567
    },
    "executionInfo": {
     "elapsed": 2678808,
     "status": "ok",
     "timestamp": 1621839859120,
     "user": {
      "displayName": "Эрик Муллагалиев",
      "photoUrl": "",
      "userId": "09073712434566956400"
     },
     "user_tz": -180
    },
    "id": "0kNmeNb8-LFW",
    "outputId": "00244231-4d84-4064-9be0-161e02565538"
   },
   "outputs": [
    {
     "data": {
      "image/png": "[encoded data removed]",
      "text/plain": [
       "<Figure size 864x576 with 2 Axes>"
      ]
     },
     "metadata": {
      "needs_background": "light",
      "tags": []
     },
     "output_type": "display_data"
    },
    {
     "name": "stdout",
     "output_type": "stream",
     "text": [
      "Epoch: 25 | Time: 1m 47s\n",
      "\tTrain Loss: 2.392 | Train PPL:  10.937\n",
      "\t Val. Loss: 4.754 |  Val. PPL: 116.091\n"
     ]
    }
   ],
   "source": [
    "for epoch in range(N_EPOCHS):\n",
    "    \n",
    "    start_time = time.time()\n",
    "    \n",
    "    train_loss = train(model, train_iterator, optimizer, criterion, CLIP, train_history, valid_history)\n",
    "    valid_loss = evaluate(model, valid_iterator, criterion)\n",
    "    \n",
    "    end_time = time.time()\n",
    "    \n",
    "    epoch_mins, epoch_secs = epoch_time(start_time, end_time)\n",
    "    \n",
    "    if valid_loss < best_valid_loss:\n",
    "        best_valid_loss = valid_loss\n",
    "        torch.save(model.state_dict(), 'tut1-model.pt')\n",
    "    \n",
    "    train_history.append(train_loss)\n",
    "    valid_history.append(valid_loss)\n",
    "    print(f'Epoch: {epoch+1:02} | Time: {epoch_mins}m {epoch_secs}s')\n",
    "    print(f'\\tTrain Loss: {train_loss:.3f} | Train PPL: {math.exp(train_loss):7.3f}')\n",
    "    print(f'\\t Val. Loss: {valid_loss:.3f} |  Val. PPL: {math.exp(valid_loss):7.3f}')"
   ]
  },
  {
   "cell_type": "markdown",
   "metadata": {
    "id": "S3qClvRz_JWl"
   },
   "source": [
    "__Let's take a look at our network quality__:"
   ]
  },
  {
   "cell_type": "code",
   "execution_count": 32,
   "metadata": {
    "executionInfo": {
     "elapsed": 269,
     "status": "ok",
     "timestamp": 1621840036807,
     "user": {
      "displayName": "Эрик Муллагалиев",
      "photoUrl": "",
      "userId": "09073712434566956400"
     },
     "user_tz": -180
    },
    "id": "LfzD3gUB-LId"
   },
   "outputs": [],
   "source": [
    "imp.reload(utils)\n",
    "generate_translation = utils.generate_translation\n",
    "remove_tech_tokens = utils.remove_tech_tokens\n",
    "get_text = utils.get_text\n",
    "flatten = utils.flatten"
   ]
  },
  {
   "cell_type": "code",
   "execution_count": 33,
   "metadata": {
    "executionInfo": {
     "elapsed": 271,
     "status": "ok",
     "timestamp": 1621840041081,
     "user": {
      "displayName": "Эрик Муллагалиев",
      "photoUrl": "",
      "userId": "09073712434566956400"
     },
     "user_tz": -180
    },
    "id": "lsZ11I2J_E3V"
   },
   "outputs": [],
   "source": [
    "batch = next(iter(test_iterator))"
   ]
  },
  {
   "cell_type": "code",
   "execution_count": 34,
   "metadata": {
    "colab": {
     "base_uri": "https://localhost:8080/"
    },
    "executionInfo": {
     "elapsed": 10,
     "status": "ok",
     "timestamp": 1621840042511,
     "user": {
      "displayName": "Эрик Муллагалиев",
      "photoUrl": "",
      "userId": "09073712434566956400"
     },
     "user_tz": -180
    },
    "id": "FOLQQyfc_E9J",
    "outputId": "d4d1e624-eeec-4329-e0c5-4b78cc0b4353"
   },
   "outputs": [
    {
     "name": "stdout",
     "output_type": "stream",
     "text": [
      "Original: guests benefit from terrace .\n",
      "Generated: a shared bathroom .\n",
      "\n",
      "Original: the bathroom is fitted with a shower .\n",
      "Generated: en suite bathroom comes with a shower .\n",
      "\n"
     ]
    }
   ],
   "source": [
    "for idx in [1,2]:\n",
    "    src = batch.src[:, idx:idx+1]\n",
    "    trg = batch.trg[:, idx:idx+1]\n",
    "    generate_translation(src, trg, model, TRG.vocab)"
   ]
  },
  {
   "cell_type": "code",
   "execution_count": 35,
   "metadata": {
    "colab": {
     "base_uri": "https://localhost:8080/"
    },
    "executionInfo": {
     "elapsed": 5010,
     "status": "ok",
     "timestamp": 1621840054225,
     "user": {
      "displayName": "Эрик Муллагалиев",
      "photoUrl": "",
      "userId": "09073712434566956400"
     },
     "user_tz": -180
    },
    "id": "9Jwml0N3_SqT",
    "outputId": "db762860-7788-4d38-d1c7-bbd90d024074"
   },
   "outputs": [
    {
     "name": "stderr",
     "output_type": "stream",
     "text": [
      "59it [00:04, 12.48it/s]\n"
     ]
    }
   ],
   "source": [
    "original_text = []\n",
    "generated_text = []\n",
    "model.eval()\n",
    "with torch.no_grad():\n",
    "\n",
    "    for i, batch in tqdm.tqdm(enumerate(test_iterator)):\n",
    "\n",
    "        src = batch.src\n",
    "        trg = batch.trg\n",
    "\n",
    "        output = model(src, trg, 0) #turn off teacher forcing\n",
    "\n",
    "        #trg = [trg sent len, batch size]\n",
    "        #output = [trg sent len, batch size, output dim]\n",
    "\n",
    "        output = output.argmax(dim=-1)\n",
    "        \n",
    "        original_text.extend([get_text(x, TRG.vocab) for x in trg.cpu().numpy().T])\n",
    "        generated_text.extend([get_text(x, TRG.vocab) for x in output[1:].detach().cpu().numpy().T])"
   ]
  },
  {
   "cell_type": "code",
   "execution_count": 36,
   "metadata": {
    "colab": {
     "base_uri": "https://localhost:8080/"
    },
    "executionInfo": {
     "elapsed": 1380,
     "status": "ok",
     "timestamp": 1621840055596,
     "user": {
      "displayName": "Эрик Муллагалиев",
      "photoUrl": "",
      "userId": "09073712434566956400"
     },
     "user_tz": -180
    },
    "id": "UpPutj1FAN0C",
    "outputId": "ab5f3dff-b75f-460f-bc7d-9f75e9f074e4"
   },
   "outputs": [
    {
     "data": {
      "text/plain": [
       "17.32819130257564"
      ]
     },
     "execution_count": 36,
     "metadata": {
      "tags": []
     },
     "output_type": "execute_result"
    }
   ],
   "source": [
    "corpus_bleu([[text] for text in original_text], generated_text) * 100"
   ]
  },
  {
   "cell_type": "markdown",
   "metadata": {
    "id": "KjUEWofREko2"
   },
   "source": [
    "#### Базовую модель с большим числом слоев запустить не удалось. Не влезло в память GPU. Качество получилось ниже самой низкой оценки"
   ]
  },
  {
   "cell_type": "markdown",
   "metadata": {
    "id": "wn1bXMh5EMVf"
   },
   "source": [
    "### Попробуем модель с GRU"
   ]
  },
  {
   "cell_type": "code",
   "execution_count": 37,
   "metadata": {
    "executionInfo": {
     "elapsed": 286,
     "status": "ok",
     "timestamp": 1621840067173,
     "user": {
      "displayName": "Эрик Муллагалиев",
      "photoUrl": "",
      "userId": "09073712434566956400"
     },
     "user_tz": -180
    },
    "id": "mYzsh6J_Dis_"
   },
   "outputs": [],
   "source": [
    "import GRU_Seq2Seq\n",
    "Encoder = GRU_Seq2Seq.Encoder\n",
    "Decoder = GRU_Seq2Seq.Decoder\n",
    "GRU = GRU_Seq2Seq.GRU"
   ]
  },
  {
   "cell_type": "code",
   "execution_count": 38,
   "metadata": {
    "executionInfo": {
     "elapsed": 3,
     "status": "ok",
     "timestamp": 1621840068550,
     "user": {
      "displayName": "Эрик Муллагалиев",
      "photoUrl": "",
      "userId": "09073712434566956400"
     },
     "user_tz": -180
    },
    "id": "6IoOxCyODhXf"
   },
   "outputs": [],
   "source": [
    "INPUT_DIM = len(SRC.vocab)\n",
    "OUTPUT_DIM = len(TRG.vocab)\n",
    "ENC_EMB_DIM = 256\n",
    "DEC_EMB_DIM = 256\n",
    "HID_DIM = 512\n",
    "N_LAYERS = 512\n",
    "ENC_DROPOUT = 0.5\n",
    "DEC_DROPOUT = 0.5\n",
    "\n",
    "enc = Encoder(INPUT_DIM, ENC_EMB_DIM, HID_DIM, ENC_DROPOUT)\n",
    "dec = Decoder(OUTPUT_DIM, DEC_EMB_DIM, HID_DIM, DEC_DROPOUT)\n",
    "\n",
    "# dont forget to put the model to the right device\n",
    "model = GRU(enc, dec, device).to(device)"
   ]
  },
  {
   "cell_type": "code",
   "execution_count": 39,
   "metadata": {
    "colab": {
     "base_uri": "https://localhost:8080/"
    },
    "executionInfo": {
     "elapsed": 335,
     "status": "ok",
     "timestamp": 1621840072069,
     "user": {
      "displayName": "Эрик Муллагалиев",
      "photoUrl": "",
      "userId": "09073712434566956400"
     },
     "user_tz": -180
    },
    "id": "tUuhxGeYCbLm",
    "outputId": "1d81e3da-fb62-4080-b6d7-cb144964c157"
   },
   "outputs": [
    {
     "name": "stdout",
     "output_type": "stream",
     "text": [
      "GRU(\n",
      "  (encoder): Encoder(\n",
      "    (embedding): Embedding(9240, 256)\n",
      "    (rnn): GRU(256, 512)\n",
      "    (dropout): Dropout(p=0.5, inplace=False)\n",
      "  )\n",
      "  (decoder): Decoder(\n",
      "    (embedding): Embedding(6743, 256)\n",
      "    (rnn): GRU(768, 512)\n",
      "    (out): Linear(in_features=1280, out_features=6743, bias=True)\n",
      "    (dropout): Dropout(p=0.5, inplace=False)\n",
      "  )\n",
      ")\n",
      "The model has 15,881,303 trainable parameters\n"
     ]
    }
   ],
   "source": [
    "model.apply(init_weights)\n",
    "print(model)\n",
    "\n",
    "print(f'The model has {count_parameters(model):,} trainable parameters')"
   ]
  },
  {
   "cell_type": "code",
   "execution_count": 40,
   "metadata": {
    "executionInfo": {
     "elapsed": 3,
     "status": "ok",
     "timestamp": 1621840072822,
     "user": {
      "displayName": "Эрик Муллагалиев",
      "photoUrl": "",
      "userId": "09073712434566956400"
     },
     "user_tz": -180
    },
    "id": "_1jpcJlfCbO5"
   },
   "outputs": [],
   "source": [
    "PAD_IDX = TRG.vocab.stoi['<pad>']\n",
    "optimizer = optim.Adam(model.parameters())\n",
    "criterion = nn.CrossEntropyLoss(ignore_index = PAD_IDX)"
   ]
  },
  {
   "cell_type": "code",
   "execution_count": 41,
   "metadata": {
    "executionInfo": {
     "elapsed": 277,
     "status": "ok",
     "timestamp": 1621840074200,
     "user": {
      "displayName": "Эрик Муллагалиев",
      "photoUrl": "",
      "userId": "09073712434566956400"
     },
     "user_tz": -180
    },
    "id": "Q31sEpYPCbS-"
   },
   "outputs": [],
   "source": [
    "train_history = []\n",
    "valid_history = []\n",
    "\n",
    "N_EPOCHS = 25\n",
    "CLIP = 10\n",
    "\n",
    "best_valid_loss = float('inf')"
   ]
  },
  {
   "cell_type": "code",
   "execution_count": 42,
   "metadata": {
    "colab": {
     "base_uri": "https://localhost:8080/",
     "height": 567
    },
    "executionInfo": {
     "elapsed": 2728300,
     "status": "ok",
     "timestamp": 1621842805491,
     "user": {
      "displayName": "Эрик Муллагалиев",
      "photoUrl": "",
      "userId": "09073712434566956400"
     },
     "user_tz": -180
    },
    "id": "5BJG9lOJCbXd",
    "outputId": "00008001-7551-4f35-e198-9cbf8b6b62a2"
   },
   "outputs": [
    {
     "data": {
      "image/png": "[encoded data removed]",
      "text/plain": [
       "<Figure size 864x576 with 2 Axes>"
      ]
     },
     "metadata": {
      "needs_background": "light",
      "tags": []
     },
     "output_type": "display_data"
    },
    {
     "name": "stdout",
     "output_type": "stream",
     "text": [
      "Epoch: 25 | Time: 1m 49s\n",
      "\tTrain Loss: 1.351 | Train PPL:   3.860\n",
      "\t Val. Loss: 4.890 |  Val. PPL: 132.974\n"
     ]
    }
   ],
   "source": [
    "for epoch in range(N_EPOCHS):\n",
    "    \n",
    "    start_time = time.time()\n",
    "    \n",
    "    train_loss = train(model, train_iterator, optimizer, criterion, CLIP, train_history, valid_history)\n",
    "    valid_loss = evaluate(model, valid_iterator, criterion)\n",
    "    \n",
    "    end_time = time.time()\n",
    "    \n",
    "    epoch_mins, epoch_secs = epoch_time(start_time, end_time)\n",
    "    \n",
    "    if valid_loss < best_valid_loss:\n",
    "        best_valid_loss = valid_loss\n",
    "        torch.save(model.state_dict(), 'tut1-model.pt')\n",
    "    \n",
    "    train_history.append(train_loss)\n",
    "    valid_history.append(valid_loss)\n",
    "    print(f'Epoch: {epoch+1:02} | Time: {epoch_mins}m {epoch_secs}s')\n",
    "    print(f'\\tTrain Loss: {train_loss:.3f} | Train PPL: {math.exp(train_loss):7.3f}')\n",
    "    print(f'\\t Val. Loss: {valid_loss:.3f} |  Val. PPL: {math.exp(valid_loss):7.3f}')"
   ]
  },
  {
   "cell_type": "markdown",
   "metadata": {
    "id": "fcyjc1w_Cu0Z"
   },
   "source": [
    "__Let's take a look at our network quality__:"
   ]
  },
  {
   "cell_type": "code",
   "execution_count": 43,
   "metadata": {
    "executionInfo": {
     "elapsed": 47,
     "status": "ok",
     "timestamp": 1621842805495,
     "user": {
      "displayName": "Эрик Муллагалиев",
      "photoUrl": "",
      "userId": "09073712434566956400"
     },
     "user_tz": -180
    },
    "id": "ZXlgOgYWCzTM"
   },
   "outputs": [],
   "source": [
    "imp.reload(utils)\n",
    "generate_translation = utils.generate_translation\n",
    "remove_tech_tokens = utils.remove_tech_tokens\n",
    "get_text = utils.get_text\n",
    "flatten = utils.flatten"
   ]
  },
  {
   "cell_type": "code",
   "execution_count": 44,
   "metadata": {
    "executionInfo": {
     "elapsed": 39,
     "status": "ok",
     "timestamp": 1621842805496,
     "user": {
      "displayName": "Эрик Муллагалиев",
      "photoUrl": "",
      "userId": "09073712434566956400"
     },
     "user_tz": -180
    },
    "id": "Nan_vSVICzeR"
   },
   "outputs": [],
   "source": [
    "batch = next(iter(test_iterator))"
   ]
  },
  {
   "cell_type": "code",
   "execution_count": 45,
   "metadata": {
    "colab": {
     "base_uri": "https://localhost:8080/"
    },
    "executionInfo": {
     "elapsed": 38,
     "status": "ok",
     "timestamp": 1621842805497,
     "user": {
      "displayName": "Эрик Муллагалиев",
      "photoUrl": "",
      "userId": "09073712434566956400"
     },
     "user_tz": -180
    },
    "id": "wwqAyq7vDRtB",
    "outputId": "9cbeb2df-4a43-43a3-9d08-2a61e4d8fecf"
   },
   "outputs": [
    {
     "name": "stdout",
     "output_type": "stream",
     "text": [
      "Original: guests benefit from terrace .\n",
      "Generated: guests benefit from terrace terrace .\n",
      "\n",
      "Original: the bathroom is fitted with a shower .\n",
      "Generated: the bathroom comes with a shower .\n",
      "\n"
     ]
    }
   ],
   "source": [
    "for idx in [1,2]:\n",
    "    src = batch.src[:, idx:idx+1]\n",
    "    trg = batch.trg[:, idx:idx+1]\n",
    "    generate_translation(src, trg, model, TRG.vocab)"
   ]
  },
  {
   "cell_type": "code",
   "execution_count": 46,
   "metadata": {
    "colab": {
     "base_uri": "https://localhost:8080/"
    },
    "executionInfo": {
     "elapsed": 4685,
     "status": "ok",
     "timestamp": 1621842810157,
     "user": {
      "displayName": "Эрик Муллагалиев",
      "photoUrl": "",
      "userId": "09073712434566956400"
     },
     "user_tz": -180
    },
    "id": "HOl-64AGDR4M",
    "outputId": "5407ae6b-cc5e-4e7c-c7dc-38f98d678f8d"
   },
   "outputs": [
    {
     "name": "stderr",
     "output_type": "stream",
     "text": [
      "59it [00:04, 12.92it/s]\n"
     ]
    }
   ],
   "source": [
    "original_text = []\n",
    "generated_text = []\n",
    "model.eval()\n",
    "with torch.no_grad():\n",
    "\n",
    "    for i, batch in tqdm.tqdm(enumerate(test_iterator)):\n",
    "\n",
    "        src = batch.src\n",
    "        trg = batch.trg\n",
    "\n",
    "        output = model(src, trg, 0) #turn off teacher forcing\n",
    "\n",
    "        #trg = [trg sent len, batch size]\n",
    "        #output = [trg sent len, batch size, output dim]\n",
    "\n",
    "        output = output.argmax(dim=-1)\n",
    "        \n",
    "        original_text.extend([get_text(x, TRG.vocab) for x in trg.cpu().numpy().T])\n",
    "        generated_text.extend([get_text(x, TRG.vocab) for x in output[1:].detach().cpu().numpy().T])"
   ]
  },
  {
   "cell_type": "code",
   "execution_count": 47,
   "metadata": {
    "colab": {
     "base_uri": "https://localhost:8080/"
    },
    "executionInfo": {
     "elapsed": 1443,
     "status": "ok",
     "timestamp": 1621842811580,
     "user": {
      "displayName": "Эрик Муллагалиев",
      "photoUrl": "",
      "userId": "09073712434566956400"
     },
     "user_tz": -180
    },
    "id": "KrJ9vhaQCznY",
    "outputId": "6ffdb5ef-1254-4aa3-ae8d-c4f1e7687153"
   },
   "outputs": [
    {
     "data": {
      "text/plain": [
       "24.14607275852084"
      ]
     },
     "execution_count": 47,
     "metadata": {
      "tags": []
     },
     "output_type": "execute_result"
    }
   ],
   "source": [
    "corpus_bleu([[text] for text in original_text], generated_text) * 100"
   ]
  },
  {
   "cell_type": "markdown",
   "metadata": {
    "id": "2m8TIS8OS2N3"
   },
   "source": [
    "### С GRU число слоев уже увеличить удалось, что сказалось на качестве обучения. По времени так же показалось, что данная модель работает быстрее базовой с учетом того, что слоев больше"
   ]
  },
  {
   "cell_type": "markdown",
   "metadata": {
    "id": "-gGZt0UaEUcV"
   },
   "source": [
    "### Добавим Attention"
   ]
  },
  {
   "cell_type": "code",
   "execution_count": 53,
   "metadata": {
    "id": "RS1Kmmw1C25p"
   },
   "outputs": [],
   "source": [
    "import attention_GRU_Seq2Seq\n",
    "Encoder = attention_GRU_Seq2Seq.Encoder\n",
    "Attention = attention_GRU_Seq2Seq.Attention\n",
    "Decoder = attention_GRU_Seq2Seq.Decoder\n",
    "Attention_GRU = attention_GRU_Seq2Seq.Attention_GRU"
   ]
  },
  {
   "cell_type": "code",
   "execution_count": 54,
   "metadata": {
    "id": "LsJZQNno-JPd"
   },
   "outputs": [],
   "source": [
    "INPUT_DIM = len(SRC.vocab)\n",
    "OUTPUT_DIM = len(TRG.vocab)\n",
    "ENC_EMB_DIM = 256\n",
    "DEC_EMB_DIM = 256\n",
    "HID_DIM = 512\n",
    "N_LAYERS = 512\n",
    "ENC_DROPOUT = 0.5\n",
    "DEC_DROPOUT = 0.5\n",
    "\n",
    "enc = Encoder(INPUT_DIM, ENC_EMB_DIM, HID_DIM, N_LAYERS, ENC_DROPOUT)\n",
    "atten = Attention(HID_DIM, N_LAYERS)\n",
    "dec = Decoder(OUTPUT_DIM, DEC_EMB_DIM, HID_DIM, N_LAYERS, DEC_DROPOUT, atten)\n",
    "\n",
    "# dont forget to put the model to the right device\n",
    "model = Attention_GRU(enc, dec, device).to(device)"
   ]
  },
  {
   "cell_type": "code",
   "execution_count": 55,
   "metadata": {
    "colab": {
     "base_uri": "https://localhost:8080/"
    },
    "executionInfo": {
     "elapsed": 262,
     "status": "ok",
     "timestamp": 1621804184536,
     "user": {
      "displayName": "Эрик Муллагалиев",
      "photoUrl": "",
      "userId": "09073712434566956400"
     },
     "user_tz": -180
    },
    "id": "eVGtg7HWT5zu",
    "outputId": "774261e0-1cd0-4277-87a1-72b9486fc291"
   },
   "outputs": [
    {
     "name": "stdout",
     "output_type": "stream",
     "text": [
      "Attention_GRU(\n",
      "  (encoder): Encoder(\n",
      "    (embedding): Embedding(9206, 256)\n",
      "    (rnn): GRU(256, 512, bidirectional=True)\n",
      "    (fc): Linear(in_features=1024, out_features=512, bias=True)\n",
      "    (dropout): Dropout(p=0.5, inplace=False)\n",
      "  )\n",
      "  (decoder): Decoder(\n",
      "    (attention): Attention(\n",
      "      (attn): Linear(in_features=1536, out_features=512, bias=True)\n",
      "    )\n",
      "    (embedding): Embedding(6687, 256)\n",
      "    (rnn): GRU(1280, 512)\n",
      "    (out): Linear(in_features=1792, out_features=6687, bias=True)\n",
      "    (dropout): Dropout(p=0.5, inplace=False)\n",
      "  )\n",
      ")\n",
      "The model has 22,491,679 trainable parameters\n"
     ]
    }
   ],
   "source": [
    "model.apply(init_weights)\n",
    "print(model)\n",
    "\n",
    "print(f'The model has {count_parameters(model):,} trainable parameters')"
   ]
  },
  {
   "cell_type": "code",
   "execution_count": null,
   "metadata": {
    "id": "FXLlZKgkT5zw"
   },
   "outputs": [],
   "source": [
    "PAD_IDX = TRG.vocab.stoi['<pad>']\n",
    "optimizer = optim.Adam(model.parameters())\n",
    "criterion = nn.CrossEntropyLoss(ignore_index = PAD_IDX)"
   ]
  },
  {
   "cell_type": "code",
   "execution_count": null,
   "metadata": {
    "id": "_2b8gho6T5z0"
   },
   "outputs": [],
   "source": [
    "train_history = []\n",
    "valid_history = []\n",
    "\n",
    "N_EPOCHS = 25\n",
    "CLIP = 10\n",
    "\n",
    "best_valid_loss = float('inf')"
   ]
  },
  {
   "cell_type": "code",
   "execution_count": null,
   "metadata": {
    "colab": {
     "base_uri": "https://localhost:8080/",
     "height": 567
    },
    "executionInfo": {
     "elapsed": 6717591,
     "status": "ok",
     "timestamp": 1621810910100,
     "user": {
      "displayName": "Эрик Муллагалиев",
      "photoUrl": "",
      "userId": "09073712434566956400"
     },
     "user_tz": -180
    },
    "id": "TzqwMbuUT5z1",
    "outputId": "6598790d-2872-4168-a0bb-5c26608ec438"
   },
   "outputs": [
    {
     "data": {
      "image/png": "[encoded data removed]",
      "text/plain": [
       "<Figure size 864x576 with 2 Axes>"
      ]
     },
     "metadata": {
      "needs_background": "light",
      "tags": []
     },
     "output_type": "display_data"
    },
    {
     "name": "stdout",
     "output_type": "stream",
     "text": [
      "Epoch: 25 | Time: 4m 28s\n",
      "\tTrain Loss: 1.001 | Train PPL:   2.722\n",
      "\t Val. Loss: 5.105 |  Val. PPL: 164.840\n"
     ]
    }
   ],
   "source": [
    "for epoch in range(N_EPOCHS):\n",
    "    \n",
    "    start_time = time.time()\n",
    "    \n",
    "    train_loss = train(model, train_iterator, optimizer, criterion, CLIP, train_history, valid_history)\n",
    "    valid_loss = evaluate(model, valid_iterator, criterion)\n",
    "    \n",
    "    end_time = time.time()\n",
    "    \n",
    "    epoch_mins, epoch_secs = epoch_time(start_time, end_time)\n",
    "    \n",
    "    if valid_loss < best_valid_loss:\n",
    "        best_valid_loss = valid_loss\n",
    "        torch.save(model.state_dict(), 'tut1-model.pt')\n",
    "    \n",
    "    train_history.append(train_loss)\n",
    "    valid_history.append(valid_loss)\n",
    "    print(f'Epoch: {epoch+1:02} | Time: {epoch_mins}m {epoch_secs}s')\n",
    "    print(f'\\tTrain Loss: {train_loss:.3f} | Train PPL: {math.exp(train_loss):7.3f}')\n",
    "    print(f'\\t Val. Loss: {valid_loss:.3f} |  Val. PPL: {math.exp(valid_loss):7.3f}')"
   ]
  },
  {
   "cell_type": "markdown",
   "metadata": {
    "id": "6pfSP8lyT5z1"
   },
   "source": [
    "__Let's take a look at our network quality__:"
   ]
  },
  {
   "cell_type": "code",
   "execution_count": null,
   "metadata": {
    "id": "M567Xf77T5z2"
   },
   "outputs": [],
   "source": [
    "#del utils"
   ]
  },
  {
   "cell_type": "code",
   "execution_count": null,
   "metadata": {
    "id": "vcWa7Z1NT5z2"
   },
   "outputs": [],
   "source": [
    "imp.reload(utils)\n",
    "generate_translation = utils.generate_translation\n",
    "remove_tech_tokens = utils.remove_tech_tokens\n",
    "get_text = utils.get_text\n",
    "flatten = utils.flatten"
   ]
  },
  {
   "cell_type": "code",
   "execution_count": null,
   "metadata": {
    "id": "131hiLMKT5z3"
   },
   "outputs": [],
   "source": [
    "batch = next(iter(test_iterator))"
   ]
  },
  {
   "cell_type": "code",
   "execution_count": null,
   "metadata": {
    "colab": {
     "base_uri": "https://localhost:8080/"
    },
    "executionInfo": {
     "elapsed": 36,
     "status": "ok",
     "timestamp": 1621810910108,
     "user": {
      "displayName": "Эрик Муллагалиев",
      "photoUrl": "",
      "userId": "09073712434566956400"
     },
     "user_tz": -180
    },
    "id": "3SDToYj5T5z3",
    "outputId": "3ff84eef-0416-4a0e-a7e5-2a475f898c5f"
   },
   "outputs": [
    {
     "name": "stdout",
     "output_type": "stream",
     "text": [
      "Original: the apartments are fitted with wooden floors .\n",
      "Generated: they have wooden floors .\n",
      "\n",
      "Original: bed linen is also provided .\n",
      "Generated: bed linen is provided .\n",
      "\n"
     ]
    }
   ],
   "source": [
    "for idx in [1,2]:\n",
    "    src = batch.src[:, idx:idx+1]\n",
    "    trg = batch.trg[:, idx:idx+1]\n",
    "    generate_translation(src, trg, model, TRG.vocab)"
   ]
  },
  {
   "cell_type": "code",
   "execution_count": null,
   "metadata": {
    "id": "siVvHOAIT5z4"
   },
   "outputs": [],
   "source": [
    "# from nltk.translate.bleu_score import corpus_bleu\n",
    "\n",
    "#     \"\"\" Estimates corpora-level BLEU score of model's translations given inp and reference out \"\"\"\n",
    "#     translations, _ = model.translate_lines(inp_lines, **flags)\n",
    "#     # Note: if you experience out-of-memory error, split input lines into batches and translate separately\n",
    "#     return corpus_bleu([[ref] for ref in out_lines], translations) * 100"
   ]
  },
  {
   "cell_type": "code",
   "execution_count": null,
   "metadata": {
    "id": "tMAWVcxMT5z4"
   },
   "outputs": [],
   "source": [
    "# import tqdm"
   ]
  },
  {
   "cell_type": "code",
   "execution_count": null,
   "metadata": {
    "colab": {
     "base_uri": "https://localhost:8080/"
    },
    "executionInfo": {
     "elapsed": 7825,
     "status": "ok",
     "timestamp": 1621810917907,
     "user": {
      "displayName": "Эрик Муллагалиев",
      "photoUrl": "",
      "userId": "09073712434566956400"
     },
     "user_tz": -180
    },
    "id": "Fl9hVEr8T5z4",
    "outputId": "a8d1aa1f-3796-4f3f-8273-c50b9c52774a"
   },
   "outputs": [
    {
     "name": "stderr",
     "output_type": "stream",
     "text": [
      "59it [00:07,  7.65it/s]\n"
     ]
    }
   ],
   "source": [
    "original_text = []\n",
    "generated_text = []\n",
    "model.eval()\n",
    "with torch.no_grad():\n",
    "\n",
    "    for i, batch in tqdm.tqdm(enumerate(test_iterator)):\n",
    "\n",
    "        src = batch.src\n",
    "        trg = batch.trg\n",
    "\n",
    "        output = model(src, trg, 0) #turn off teacher forcing\n",
    "\n",
    "        #trg = [trg sent len, batch size]\n",
    "        #output = [trg sent len, batch size, output dim]\n",
    "\n",
    "        output = output.argmax(dim=-1)\n",
    "        \n",
    "        original_text.extend([get_text(x, TRG.vocab) for x in trg.cpu().numpy().T])\n",
    "        generated_text.extend([get_text(x, TRG.vocab) for x in output[1:].detach().cpu().numpy().T])\n",
    "\n",
    "# original_text = flatten(original_text)\n",
    "# generated_text = flatten(generated_text)"
   ]
  },
  {
   "cell_type": "code",
   "execution_count": null,
   "metadata": {
    "colab": {
     "base_uri": "https://localhost:8080/"
    },
    "executionInfo": {
     "elapsed": 919,
     "status": "ok",
     "timestamp": 1621810918806,
     "user": {
      "displayName": "Эрик Муллагалиев",
      "photoUrl": "",
      "userId": "09073712434566956400"
     },
     "user_tz": -180
    },
    "id": "5VoYT4CjT5z5",
    "outputId": "5ffdff7d-49e9-4e60-d816-620588b863a2"
   },
   "outputs": [
    {
     "data": {
      "text/plain": [
       "32.37616247847138"
      ]
     },
     "execution_count": 97,
     "metadata": {
      "tags": []
     },
     "output_type": "execute_result"
    }
   ],
   "source": [
    "corpus_bleu([[text] for text in original_text], generated_text) * 100"
   ]
  },
  {
   "cell_type": "markdown",
   "metadata": {},
   "source": [
    "### С помощью Attention удалось добиться лучшего решения. пробив отметку $32.37616247847138$. Эта модель получилась самая тяжелая. Для обучения потребовалось больше чем в 3 раза времени по сравнению с обычной GRU. \n",
    "\n",
    "### Colab позволил решатьс размером $batch = 128$. Более маленькое значение значительно увеличивало время обучения и немного влияло на качество."
   ]
  },
  {
   "cell_type": "markdown",
   "metadata": {
    "id": "NpR9ykHmT5z6"
   },
   "source": [
    "Baseline solution BLEU score is quite low. Try to achieve at least __24__ BLEU on the test set. \n",
    "The checkpoints are:\n",
    "\n",
    "* __22__ - minimal score to submit the homework, 30% of points\n",
    "\n",
    "* __27__ - good score, 70% of points\n",
    "\n",
    "* __29__ - excellent score, 100% of points"
   ]
  }
 ],
 "metadata": {
  "anaconda-cloud": {},
  "colab": {
   "collapsed_sections": [],
   "machine_shape": "hm",
   "name": "Lab2_NMT.ipynb",
   "provenance": [],
   "toc_visible": true
  },
  "kernelspec": {
   "display_name": "Python 3 (ipykernel)",
   "language": "python",
   "name": "python3"
  },
  "language_info": {
   "codemirror_mode": {
    "name": "ipython",
    "version": 3
   },
   "file_extension": ".py",
   "mimetype": "text/x-python",
   "name": "python",
   "nbconvert_exporter": "python",
   "pygments_lexer": "ipython3",
   "version": "3.8.13"
  }
 },
 "nbformat": 4,
 "nbformat_minor": 1
}
